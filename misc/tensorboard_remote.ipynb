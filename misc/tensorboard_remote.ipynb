{
  "nbformat": 4,
  "nbformat_minor": 0,
  "metadata": {
    "kernelspec": {
      "display_name": "Python 3",
      "language": "python",
      "name": "python3"
    },
    "language_info": {
      "codemirror_mode": {
        "name": "ipython",
        "version": 3
      },
      "file_extension": ".py",
      "mimetype": "text/x-python",
      "name": "python",
      "nbconvert_exporter": "python",
      "pygments_lexer": "ipython3",
      "version": "3.6.9"
    },
    "colab": {
      "name": "tensorboard_remote.ipynb",
      "provenance": []
    }
  },
  "cells": [
    {
      "cell_type": "markdown",
      "metadata": {
        "id": "nCe2uIV-jjaq"
      },
      "source": [
        "# Testing tensorboard to enable remote access"
      ]
    },
    {
      "cell_type": "markdown",
      "metadata": {
        "id": "nr10fA04jjas"
      },
      "source": [
        "## Step 1:\n",
        "(Server) \n",
        "Run tensorflow as:     \n",
        "`    tensorboard --logdir <logs>`\n",
        "\n",
        "where <logs> is the location of where tf.summary.FileWriter() is pointing:  \n",
        "e.g.   \n",
        "    `~/code/RoAR/MAT_files/train_18_epochs_80_b_vals_norm/logs/`\n",
        "\n",
        "\n",
        "or \n",
        "\n",
        "`tensorboard --logdir=name1:/path/to/logs/1,name2:/path/to/logs/2` \n",
        "\n",
        "To plot specific runs\n",
        "\n",
        "or \n",
        "\n",
        "`tensorboard --logdir=directory_with_multiple_subdirectories_named_logs`   \n",
        "\n",
        "The last instance will scan all subdirectories that have \"logs\" in the name with tensorboard type and display them. \n",
        "\n"
      ]
    },
    {
      "cell_type": "markdown",
      "metadata": {
        "id": "WWFrXrKSjjat"
      },
      "source": [
        "## Step 2:   \n",
        "(Client) (Mac)   \n",
        "\n",
        "Map tensorboard port on the client to the port on the local machine:   \n",
        "e.g. if tensorboard command on the server outputs   \n",
        "   `TensorBoard 1.13.1 at http://rayan:6006 (Press CTRL+C to quit)`     \n",
        "then map to `6006`    \n",
        "e.g.    \n",
        "    `alias tensorboard_rem='ssh -N -f -L 6006:localhost:6006 ch215616@rayan'`   \n",
        "or run directly by     \n",
        "    `ssh -N -f -L 6006:localhost:6006 ch215616@rayan`   \n",
        "\n"
      ]
    },
    {
      "cell_type": "markdown",
      "metadata": {
        "id": "PNpehuDSjjat"
      },
      "source": [
        "# Tensorboard test (simple test - for checks): \n"
      ]
    },
    {
      "cell_type": "code",
      "metadata": {
        "id": "TH92YuMSjjau"
      },
      "source": [
        "%load_ext tensorboard.notebook\n",
        "\n",
        "# if doesn't work, try: %load_ext tensorboard.notebook\n"
      ],
      "execution_count": null,
      "outputs": []
    },
    {
      "cell_type": "code",
      "metadata": {
        "id": "WoTM2Ei7jjav",
        "outputId": "822e8e81-10e4-40f2-9759-101bd4dfb128"
      },
      "source": [
        "import tensorflow as tf\n",
        "import datetime"
      ],
      "execution_count": null,
      "outputs": [
        {
          "output_type": "stream",
          "text": [
            "/home/ch215616/miniconda2/envs/tch1/lib/python3.6/site-packages/tensorflow/python/framework/dtypes.py:526: FutureWarning: Passing (type, 1) or '1type' as a synonym of type is deprecated; in a future version of numpy, it will be understood as (type, (1,)) / '(1,)type'.\n",
            "  _np_qint8 = np.dtype([(\"qint8\", np.int8, 1)])\n",
            "/home/ch215616/miniconda2/envs/tch1/lib/python3.6/site-packages/tensorflow/python/framework/dtypes.py:527: FutureWarning: Passing (type, 1) or '1type' as a synonym of type is deprecated; in a future version of numpy, it will be understood as (type, (1,)) / '(1,)type'.\n",
            "  _np_quint8 = np.dtype([(\"quint8\", np.uint8, 1)])\n",
            "/home/ch215616/miniconda2/envs/tch1/lib/python3.6/site-packages/tensorflow/python/framework/dtypes.py:528: FutureWarning: Passing (type, 1) or '1type' as a synonym of type is deprecated; in a future version of numpy, it will be understood as (type, (1,)) / '(1,)type'.\n",
            "  _np_qint16 = np.dtype([(\"qint16\", np.int16, 1)])\n",
            "/home/ch215616/miniconda2/envs/tch1/lib/python3.6/site-packages/tensorflow/python/framework/dtypes.py:529: FutureWarning: Passing (type, 1) or '1type' as a synonym of type is deprecated; in a future version of numpy, it will be understood as (type, (1,)) / '(1,)type'.\n",
            "  _np_quint16 = np.dtype([(\"quint16\", np.uint16, 1)])\n",
            "/home/ch215616/miniconda2/envs/tch1/lib/python3.6/site-packages/tensorflow/python/framework/dtypes.py:530: FutureWarning: Passing (type, 1) or '1type' as a synonym of type is deprecated; in a future version of numpy, it will be understood as (type, (1,)) / '(1,)type'.\n",
            "  _np_qint32 = np.dtype([(\"qint32\", np.int32, 1)])\n",
            "/home/ch215616/miniconda2/envs/tch1/lib/python3.6/site-packages/tensorflow/python/framework/dtypes.py:535: FutureWarning: Passing (type, 1) or '1type' as a synonym of type is deprecated; in a future version of numpy, it will be understood as (type, (1,)) / '(1,)type'.\n",
            "  np_resource = np.dtype([(\"resource\", np.ubyte, 1)])\n"
          ],
          "name": "stderr"
        }
      ]
    },
    {
      "cell_type": "code",
      "metadata": {
        "id": "wnZHCxASjjaw"
      },
      "source": [
        "mkdir -p tensorboard_test"
      ],
      "execution_count": null,
      "outputs": []
    },
    {
      "cell_type": "code",
      "metadata": {
        "id": "3Zxws--wjjaw",
        "outputId": "0998707c-12ab-4aa2-df5f-404da071be0b"
      },
      "source": [
        "cd tensorboard_test"
      ],
      "execution_count": null,
      "outputs": [
        {
          "output_type": "stream",
          "text": [
            "/home/ch215616/code/RoAR/tensorboard_test\n"
          ],
          "name": "stdout"
        }
      ]
    },
    {
      "cell_type": "code",
      "metadata": {
        "id": "VRBfyHObjjax",
        "outputId": "1a1be128-376d-4d28-e70e-cad368c0c123"
      },
      "source": [
        "mnist = tf.keras.datasets.mnist\n",
        "\n",
        "(x_train, y_train),(x_test, y_test) = mnist.load_data()\n",
        "x_train, x_test = x_train / 255.0, x_test / 255.0\n",
        "\n",
        "def create_model():\n",
        "  return tf.keras.models.Sequential([\n",
        "    tf.keras.layers.Flatten(input_shape=(28, 28)),\n",
        "    tf.keras.layers.Dense(512, activation='relu'),\n",
        "    tf.keras.layers.Dropout(0.2),\n",
        "    tf.keras.layers.Dense(10, activation='softmax')\n",
        "  ])"
      ],
      "execution_count": null,
      "outputs": [
        {
          "output_type": "stream",
          "text": [
            "Downloading data from https://storage.googleapis.com/tensorflow/tf-keras-datasets/mnist.npz\n",
            "11493376/11490434 [==============================] - 0s 0us/step\n"
          ],
          "name": "stdout"
        }
      ]
    },
    {
      "cell_type": "code",
      "metadata": {
        "id": "Vr2ekTX6jjax",
        "outputId": "5be42b3a-e0e9-404a-be32-944dfb6b6a12"
      },
      "source": [
        "model = create_model()\n",
        "model.compile(optimizer='adam',\n",
        "              loss='sparse_categorical_crossentropy',\n",
        "              metrics=['accuracy'])\n",
        "\n",
        "log_dir = \"logs/fit/\" + datetime.datetime.now().strftime(\"%Y%m%d-%H%M%S\")\n",
        "tensorboard_callback = tf.keras.callbacks.TensorBoard(log_dir=log_dir, histogram_freq=1)\n",
        "\n",
        "model.fit(x=x_train, \n",
        "          y=y_train, \n",
        "          epochs=5, \n",
        "          validation_data=(x_test, y_test), \n",
        "          callbacks=[tensorboard_callback])"
      ],
      "execution_count": null,
      "outputs": [
        {
          "output_type": "stream",
          "text": [
            "WARNING:tensorflow:From /home/ch215616/miniconda2/envs/tch1/lib/python3.6/site-packages/tensorflow/python/ops/resource_variable_ops.py:435: colocate_with (from tensorflow.python.framework.ops) is deprecated and will be removed in a future version.\n",
            "Instructions for updating:\n",
            "Colocations handled automatically by placer.\n",
            "WARNING:tensorflow:From /home/ch215616/miniconda2/envs/tch1/lib/python3.6/site-packages/tensorflow/python/keras/layers/core.py:143: calling dropout (from tensorflow.python.ops.nn_ops) with keep_prob is deprecated and will be removed in a future version.\n",
            "Instructions for updating:\n",
            "Please use `rate` instead of `keep_prob`. Rate should be set to `rate = 1 - keep_prob`.\n",
            "Train on 60000 samples, validate on 10000 samples\n",
            "Epoch 1/5\n",
            "60000/60000 [==============================] - 28s 467us/sample - loss: 0.2166 - acc: 0.9357 - val_loss: 0.1071 - val_acc: 0.9671\n",
            "Epoch 2/5\n",
            "60000/60000 [==============================] - 25s 413us/sample - loss: 0.0960 - acc: 0.9705 - val_loss: 0.0868 - val_acc: 0.9728\n",
            "Epoch 3/5\n",
            "60000/60000 [==============================] - 24s 401us/sample - loss: 0.0699 - acc: 0.9775 - val_loss: 0.0769 - val_acc: 0.9761\n",
            "Epoch 4/5\n",
            "60000/60000 [==============================] - 26s 426us/sample - loss: 0.0520 - acc: 0.9830 - val_loss: 0.0663 - val_acc: 0.9796\n",
            "Epoch 5/5\n",
            "60000/60000 [==============================] - 25s 415us/sample - loss: 0.0441 - acc: 0.9860 - val_loss: 0.0638 - val_acc: 0.9807\n"
          ],
          "name": "stdout"
        },
        {
          "output_type": "execute_result",
          "data": {
            "text/plain": [
              "<tensorflow.python.keras.callbacks.History at 0x7fb96a26a8d0>"
            ]
          },
          "metadata": {
            "tags": []
          },
          "execution_count": 11
        }
      ]
    },
    {
      "cell_type": "code",
      "metadata": {
        "id": "3zQr8CEVjjay"
      },
      "source": [
        "%%bash \n",
        "tensorboard --logdir logs/fit\n",
        "\n"
      ],
      "execution_count": null,
      "outputs": []
    }
<<<<<<< HEAD
   ],
   "source": [
    "model = create_model()\n",
    "model.compile(optimizer='adam',\n",
    "              loss='sparse_categorical_crossentropy',\n",
    "              metrics=['accuracy'])\n",
    "\n",
    "log_dir = \"logs/fit/\" + datetime.datetime.now().strftime(\"%Y%m%d-%H%M%S\")\n",
    "tensorboard_callback = tf.keras.callbacks.TensorBoard(log_dir=log_dir, histogram_freq=1)\n",
    "\n",
    "model.fit(x=x_train, \n",
    "          y=y_train, \n",
    "          epochs=5, \n",
    "          validation_data=(x_test, y_test), \n",
    "          callbacks=[tensorboard_callback])"
   ]
  },
  {
   "cell_type": "code",
   "execution_count": null,
   "metadata": {},
   "outputs": [],
   "source": [
    "%%bash \n",
    "tensorboard --logdir logs/fit\n",
    "\n"
   ]
  }
 ],
 "metadata": {
  "kernelspec": {
   "display_name": "Python 3",
   "language": "python",
   "name": "python3"
  },
  "language_info": {
   "codemirror_mode": {
    "name": "ipython",
    "version": 3
   },
   "file_extension": ".py",
   "mimetype": "text/x-python",
   "name": "python",
   "nbconvert_exporter": "python",
   "pygments_lexer": "ipython3",
   "version": "3.8.6"
  }
 },
 "nbformat": 4,
 "nbformat_minor": 4
}
=======
  ]
}
>>>>>>> 79defdc5ce5136ea6f149a8f2aa844ba181e92c7
